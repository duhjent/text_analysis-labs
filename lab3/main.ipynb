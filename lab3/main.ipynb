{
 "cells": [
  {
   "cell_type": "code",
   "execution_count": 1,
   "id": "116bad93-db16-4ed1-a6e3-6da8cb2a7964",
   "metadata": {},
   "outputs": [],
   "source": [
    "import pandas as pd\n",
    "import numpy as np\n",
    "import matplotlib.pyplot as plt\n",
    "from sklearn.feature_extraction.text import CountVectorizer\n",
    "from sklearn.decomposition import LatentDirichletAllocation\n",
    "from nltk.tokenize import word_tokenize"
   ]
  },
  {
   "cell_type": "code",
   "execution_count": 3,
   "id": "ef3f7727-b1f2-4ff6-a4aa-522ef727f621",
   "metadata": {},
   "outputs": [],
   "source": [
    "def get_lda(df, n_components, min_df, n_top_words):\n",
    "    cnt_vectorizer = CountVectorizer(min_df=min_df, tokenizer=word_tokenize)\n",
    "    X = cnt_vectorizer.fit_transform(df['headline_prcessed'])\n",
    "    \n",
    "    lda = LatentDirichletAllocation(n_components=n_components, random_state=42)\n",
    "    lda.fit(X)\n",
    "\n",
    "    topic_words = {}\n",
    "    vocab = cnt_vectorizer.get_feature_names_out()\n",
    "    \n",
    "    for topic, comp in enumerate(lda.components_):\n",
    "        word_idx = np.argsort(comp)[::-1][:n_top_words]\n",
    "    \n",
    "        # store the words most relevant to the topic\n",
    "        topic_words[topic] = [vocab[i] for i in word_idx]\n",
    "\n",
    "    return vocab, lda, topic_words"
   ]
  },
  {
   "cell_type": "code",
   "execution_count": 11,
   "id": "5b30fd27-1f1f-41d8-88c7-35ba719f1c9e",
   "metadata": {},
   "outputs": [
    {
     "data": {
      "text/html": [
       "<div>\n",
       "<style scoped>\n",
       "    .dataframe tbody tr th:only-of-type {\n",
       "        vertical-align: middle;\n",
       "    }\n",
       "\n",
       "    .dataframe tbody tr th {\n",
       "        vertical-align: top;\n",
       "    }\n",
       "\n",
       "    .dataframe thead th {\n",
       "        text-align: right;\n",
       "    }\n",
       "</style>\n",
       "<table border=\"1\" class=\"dataframe\">\n",
       "  <thead>\n",
       "    <tr style=\"text-align: right;\">\n",
       "      <th></th>\n",
       "      <th>headline</th>\n",
       "      <th>headline_prcessed</th>\n",
       "    </tr>\n",
       "  </thead>\n",
       "  <tbody>\n",
       "    <tr>\n",
       "      <th>0</th>\n",
       "      <td>Збитки на понад 9 мільйонів євро: у Дніпрі пій...</td>\n",
       "      <td>збитк мільйон євр дніпр пійм учасник міжнародн...</td>\n",
       "    </tr>\n",
       "    <tr>\n",
       "      <th>1</th>\n",
       "      <td>Друзі при Балтії</td>\n",
       "      <td>друз балті</td>\n",
       "    </tr>\n",
       "    <tr>\n",
       "      <th>2</th>\n",
       "      <td>Обласна влада привітала жінок концертом Зібров...</td>\n",
       "      <td>обласн влад привітал жінок концерт зібр братів...</td>\n",
       "    </tr>\n",
       "    <tr>\n",
       "      <th>3</th>\n",
       "      <td>Кличко доручив створити робочу групу і навести...</td>\n",
       "      <td>кличк доруч створит робоч груп навест лад буді...</td>\n",
       "    </tr>\n",
       "    <tr>\n",
       "      <th>4</th>\n",
       "      <td>Вчені прирівняли переїдання до наркоманії</td>\n",
       "      <td>вчен прирівнял переїданн наркомані</td>\n",
       "    </tr>\n",
       "    <tr>\n",
       "      <th>...</th>\n",
       "      <td>...</td>\n",
       "      <td>...</td>\n",
       "    </tr>\n",
       "    <tr>\n",
       "      <th>1769208</th>\n",
       "      <td>Відео</td>\n",
       "      <td>віде</td>\n",
       "    </tr>\n",
       "    <tr>\n",
       "      <th>1769209</th>\n",
       "      <td>Міністерство культури зарубало конкурс Хоткеви...</td>\n",
       "      <td>міністерств культур зарубал конкурс хоткевич харк</td>\n",
       "    </tr>\n",
       "    <tr>\n",
       "      <th>1769210</th>\n",
       "      <td>Янукович велел ГПУ разобраться со смертью черн...</td>\n",
       "      <td>янукович велел гпу разобр со смерт чернобыльц</td>\n",
       "    </tr>\n",
       "    <tr>\n",
       "      <th>1769211</th>\n",
       "      <td>Пенсіонерам, які працюють, збережуть усі соціа...</td>\n",
       "      <td>пенсіонер працюют збережут соціальн випл мінсо...</td>\n",
       "    </tr>\n",
       "    <tr>\n",
       "      <th>1769212</th>\n",
       "      <td>Марчук топить Кінаха</td>\n",
       "      <td>марчук топит кінах</td>\n",
       "    </tr>\n",
       "  </tbody>\n",
       "</table>\n",
       "<p>1769064 rows × 2 columns</p>\n",
       "</div>"
      ],
      "text/plain": [
       "                                                  headline  \\\n",
       "0        Збитки на понад 9 мільйонів євро: у Дніпрі пій...   \n",
       "1                                         Друзі при Балтії   \n",
       "2        Обласна влада привітала жінок концертом Зібров...   \n",
       "3        Кличко доручив створити робочу групу і навести...   \n",
       "4                Вчені прирівняли переїдання до наркоманії   \n",
       "...                                                    ...   \n",
       "1769208                                              Відео   \n",
       "1769209  Міністерство культури зарубало конкурс Хоткеви...   \n",
       "1769210  Янукович велел ГПУ разобраться со смертью черн...   \n",
       "1769211  Пенсіонерам, які працюють, збережуть усі соціа...   \n",
       "1769212                               Марчук топить Кінаха   \n",
       "\n",
       "                                         headline_prcessed  \n",
       "0        збитк мільйон євр дніпр пійм учасник міжнародн...  \n",
       "1                                               друз балті  \n",
       "2        обласн влад привітал жінок концерт зібр братів...  \n",
       "3        кличк доруч створит робоч груп навест лад буді...  \n",
       "4                       вчен прирівнял переїданн наркомані  \n",
       "...                                                    ...  \n",
       "1769208                                               віде  \n",
       "1769209  міністерств культур зарубал конкурс хоткевич харк  \n",
       "1769210      янукович велел гпу разобр со смерт чернобыльц  \n",
       "1769211  пенсіонер працюют збережут соціальн випл мінсо...  \n",
       "1769212                                 марчук топит кінах  \n",
       "\n",
       "[1769064 rows x 2 columns]"
      ]
     },
     "execution_count": 11,
     "metadata": {},
     "output_type": "execute_result"
    }
   ],
   "source": [
    "df = pd.read_csv('./data/uk-cut-processed.csv').dropna()\n",
    "\n",
    "df"
   ]
  },
  {
   "cell_type": "markdown",
   "id": "d0841c03-761c-4911-8891-db7b9d28eeb9",
   "metadata": {},
   "source": [
    "## 100k records into 10 topics"
   ]
  },
  {
   "cell_type": "code",
   "execution_count": 13,
   "id": "770cf6ee-41a7-4bb4-a8c1-993663ef0147",
   "metadata": {},
   "outputs": [
    {
     "name": "stderr",
     "output_type": "stream",
     "text": [
      "/mnt/e/university/master/text_analysis-labs/venv/lib/python3.10/site-packages/sklearn/feature_extraction/text.py:525: UserWarning: The parameter 'token_pattern' will not be used since 'tokenizer' is not None'\n",
      "  warnings.warn(\n"
     ]
    },
    {
     "name": "stdout",
     "output_type": "stream",
     "text": [
      "0 ['област', 'українц', 'млн', 'мільйон', 'долар', 'львов', 'отрим', 'грн', 'гривен', 'майж']\n",
      "1 ['віде', 'києв', 'тимошенк', 'президент', 'ющенк', 'прот', 'закон', 'змін', 'янукович', 'підпис']\n",
      "2 ['рок', 'києв', 'сво', 'затрим', 'центр', 'голов', 'львівськ', 'банк', 'поліц', 'мвф']\n",
      "3 ['російськ', 'рф', 'сбу', 'влад', 'сша', 'прот', 'коронавірус', 'щод', 'проект', 'оон']\n",
      "4 ['сша', 'люд', 'чоловік', 'загинул', 'робот', 'польщ', 'кількіст', 'доб', 'осіб', 'под']\n",
      "5 ['нов', 'росі', 'крим', 'назв', 'стал', 'кабмін', 'депутат', 'вибух', 'розповіл', 'знайшл']\n",
      "6 ['україн', 'єс', 'газ', 'рос', 'буд', 'путін', 'німеччин', 'щод', 'угод', 'матч']\n",
      "7 ['суд', 'янукович', 'вибор', 'йог', 'азар', 'друг', 'заклик', 'харк', 'курс', 'протест']\n",
      "8 ['українськ', 'зеленськ', 'військов', 'ден', 'міст', 'жовтн', 'військ', 'бойовик', 'украин', 'донбас']\n",
      "9 ['рад', 'ма', 'європ', 'уряд', 'міністр', 'прав', 'хочут', 'парт', 'нардеп', 'нафтогаз']\n"
     ]
    }
   ],
   "source": [
    "vocab, lda, topic_words = get_lda(df.sample(100_000, random_state=42), 10, 0.001, 10)\n",
    "\n",
    "for k, v in topic_words.items():\n",
    "    print(k, v)"
   ]
  },
  {
   "cell_type": "code",
   "execution_count": 14,
   "id": "04143bc1-00ee-4137-90e3-57ab14e6b402",
   "metadata": {},
   "outputs": [
    {
     "name": "stdout",
     "output_type": "stream",
     "text": [
      "0 ['українц', 'рос', 'україн', 'сво', 'трамп', 'польщ', 'стал', 'банк', 'знов', 'сша']\n",
      "1 ['област', 'млн', 'грн', 'мільйон', 'вод', 'гривен', 'знайшл', 'украин', 'майж', 'донецьк']\n",
      "2 ['україн', 'єс', 'порошенк', 'газ', 'путін', 'країн', 'зеленськ', 'ма', 'азар', 'план']\n",
      "3 ['президент', 'україн', 'львов', 'буд', 'кабмін', 'ющенк', 'робот', 'ден', 'львівськ', 'завтр']\n",
      "4 ['києв', 'суд', 'нов', 'сбу', 'затрим', 'поліц', 'центр', 'грош', 'чоловік', 'змін']\n",
      "5 ['віде', 'українськ', 'донбас', 'бойовик', 'крим', 'жовтн', 'сил', 'обстріл', 'жінк', 'штаб']\n",
      "6 ['прот', 'люд', 'світ', 'матч', 'осіб', 'вибух', 'україн', 'санкці', 'європ', 'росі']\n",
      "7 ['вибор', 'перш', 'коронавірус', 'військов', 'отрим', 'одн', 'місц', 'covid-19', 'гот', 'нов']\n",
      "8 ['російськ', 'назв', 'рф', 'йог', 'головн', 'голов', 'луценк', 'под', 'українськ', 'регіон']\n",
      "9 ['рад', 'тимошенк', 'сша', 'янукович', 'рок', 'післ', 'закон', 'змі', 'діт', 'туреччин']\n"
     ]
    }
   ],
   "source": [
    "vocab, lda, topic_words = get_lda(df.sample(500_000, random_state=42), 10, 0.001, 10)\n",
    "\n",
    "for k, v in topic_words.items():\n",
    "    print(k, v)"
   ]
  },
  {
   "cell_type": "code",
   "execution_count": 15,
   "id": "de39faab-0bf3-4eb1-88b0-eca0fe3d88b1",
   "metadata": {},
   "outputs": [
    {
     "name": "stdout",
     "output_type": "stream",
     "text": [
      "0 ['віде', 'суд', 'янукович', 'тимошенк', 'рад', 'ющенк', 'голов', 'луценк', 'депутат', 'йог']\n",
      "1 ['україн', 'газ', 'млн', 'цін', 'мільйон', 'грн', 'єс', 'кабмін', 'експерт', 'гривен']\n",
      "2 ['україн', 'сша', 'прот', 'росі', 'рф', 'донбас', 'нов', 'щод', 'путін', 'крим']\n",
      "3 ['києв', 'област', 'львов', 'люд', 'сбу', 'загинул', 'чоловік', 'затрим', 'донецьк', 'центр']\n",
      "4 ['рок', 'україн', 'перш', 'жовтн', 'українськ', 'світ', 'нов', 'матч', 'коронавірус', 'динам']\n"
     ]
    }
   ],
   "source": [
    "vocab, lda, topic_words = get_lda(df.sample(500_000, random_state=42), 5, 0.0001, 10)\n",
    "\n",
    "for k, v in topic_words.items():\n",
    "    print(k, v)"
   ]
  },
  {
   "cell_type": "code",
   "execution_count": null,
   "id": "929951d7-cb8d-4808-ba90-70bc3187de27",
   "metadata": {},
   "outputs": [],
   "source": []
  }
 ],
 "metadata": {
  "kernelspec": {
   "display_name": "Python 3 (ipykernel)",
   "language": "python",
   "name": "python3"
  },
  "language_info": {
   "codemirror_mode": {
    "name": "ipython",
    "version": 3
   },
   "file_extension": ".py",
   "mimetype": "text/x-python",
   "name": "python",
   "nbconvert_exporter": "python",
   "pygments_lexer": "ipython3",
   "version": "3.10.12"
  }
 },
 "nbformat": 4,
 "nbformat_minor": 5
}
