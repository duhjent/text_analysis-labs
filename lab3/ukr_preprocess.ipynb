{
 "cells": [
  {
   "cell_type": "code",
   "execution_count": 50,
   "id": "5f6ef593-7044-44bb-bae1-56b91bb12c15",
   "metadata": {},
   "outputs": [],
   "source": [
    "import pandas as pd\n",
    "import numpy as np\n",
    "import matplotlib.pyplot as plt\n",
    "from tqdm import tqdm\n",
    "from datasets import load_dataset\n",
    "from uk_stemmer import UkStemmer\n",
    "import re\n",
    "from typing import List\n",
    "from nltk.tokenize import word_tokenize\n",
    "from string import punctuation"
   ]
  },
  {
   "cell_type": "code",
   "execution_count": 9,
   "id": "b7078557-e347-4766-bfe5-e30fdd2920a9",
   "metadata": {},
   "outputs": [
    {
     "name": "stderr",
     "output_type": "stream",
     "text": [
      "Downloading readme: 100%|████████████████████████████████████████████████████████████████████████████████████████████████████████| 447/447 [00:00<00:00, 2.42MB/s]\n",
      "Downloading data: 100%|██████████████████████████████████████████████████████████████████████████████████████████████████████| 1.57G/1.57G [02:52<00:00, 9.08MB/s]\n",
      "Generating train split: 5242391 examples [00:03, 1618234.82 examples/s]\n"
     ]
    }
   ],
   "source": [
    "ds = load_dataset('Yehor/ukrainian-news-headlines', split='train')"
   ]
  },
  {
   "cell_type": "code",
   "execution_count": 10,
   "id": "8bbc5041-1b9b-4a18-ac38-3266b0848c00",
   "metadata": {},
   "outputs": [
    {
     "data": {
      "text/plain": [
       "Dataset({\n",
       "    features: ['headline', 'length'],\n",
       "    num_rows: 5242391\n",
       "})"
      ]
     },
     "execution_count": 10,
     "metadata": {},
     "output_type": "execute_result"
    }
   ],
   "source": [
    "ds"
   ]
  },
  {
   "cell_type": "code",
   "execution_count": 13,
   "id": "682fe990-ad21-4a7a-b720-7a60577ff18b",
   "metadata": {},
   "outputs": [],
   "source": [
    "df = pd.DataFrame(ds)"
   ]
  },
  {
   "cell_type": "code",
   "execution_count": 27,
   "id": "d51d55e6-919c-4ab0-87bb-9f5169aa6be5",
   "metadata": {},
   "outputs": [],
   "source": [
    "df.sample(frac=1).head(2000000)[['headline']].dropna().to_csv('./data/ukr-cut.csv', index=False)"
   ]
  },
  {
   "cell_type": "code",
   "execution_count": 31,
   "id": "26df9822-d0d2-445e-b100-3c89702eafdc",
   "metadata": {},
   "outputs": [
    {
     "data": {
      "text/html": [
       "<div>\n",
       "<style scoped>\n",
       "    .dataframe tbody tr th:only-of-type {\n",
       "        vertical-align: middle;\n",
       "    }\n",
       "\n",
       "    .dataframe tbody tr th {\n",
       "        vertical-align: top;\n",
       "    }\n",
       "\n",
       "    .dataframe thead th {\n",
       "        text-align: right;\n",
       "    }\n",
       "</style>\n",
       "<table border=\"1\" class=\"dataframe\">\n",
       "  <thead>\n",
       "    <tr style=\"text-align: right;\">\n",
       "      <th></th>\n",
       "      <th>headline</th>\n",
       "    </tr>\n",
       "  </thead>\n",
       "  <tbody>\n",
       "    <tr>\n",
       "      <th>0</th>\n",
       "      <td>Збитки на понад 9 мільйонів євро: у Дніпрі пій...</td>\n",
       "    </tr>\n",
       "    <tr>\n",
       "      <th>1</th>\n",
       "      <td>Друзі при Балтії</td>\n",
       "    </tr>\n",
       "    <tr>\n",
       "      <th>2</th>\n",
       "      <td>Обласна влада привітала жінок концертом Зібров...</td>\n",
       "    </tr>\n",
       "    <tr>\n",
       "      <th>3</th>\n",
       "      <td>Кличко доручив створити робочу групу і навести...</td>\n",
       "    </tr>\n",
       "    <tr>\n",
       "      <th>4</th>\n",
       "      <td>Вчені прирівняли переїдання до наркоманії</td>\n",
       "    </tr>\n",
       "    <tr>\n",
       "      <th>...</th>\n",
       "      <td>...</td>\n",
       "    </tr>\n",
       "    <tr>\n",
       "      <th>1769208</th>\n",
       "      <td>Відео</td>\n",
       "    </tr>\n",
       "    <tr>\n",
       "      <th>1769209</th>\n",
       "      <td>Міністерство культури зарубало конкурс Хоткеви...</td>\n",
       "    </tr>\n",
       "    <tr>\n",
       "      <th>1769210</th>\n",
       "      <td>Янукович велел ГПУ разобраться со смертью черн...</td>\n",
       "    </tr>\n",
       "    <tr>\n",
       "      <th>1769211</th>\n",
       "      <td>Пенсіонерам, які працюють, збережуть усі соціа...</td>\n",
       "    </tr>\n",
       "    <tr>\n",
       "      <th>1769212</th>\n",
       "      <td>Марчук топить Кінаха</td>\n",
       "    </tr>\n",
       "  </tbody>\n",
       "</table>\n",
       "<p>1769213 rows × 1 columns</p>\n",
       "</div>"
      ],
      "text/plain": [
       "                                                  headline\n",
       "0        Збитки на понад 9 мільйонів євро: у Дніпрі пій...\n",
       "1                                         Друзі при Балтії\n",
       "2        Обласна влада привітала жінок концертом Зібров...\n",
       "3        Кличко доручив створити робочу групу і навести...\n",
       "4                Вчені прирівняли переїдання до наркоманії\n",
       "...                                                    ...\n",
       "1769208                                              Відео\n",
       "1769209  Міністерство культури зарубало конкурс Хоткеви...\n",
       "1769210  Янукович велел ГПУ разобраться со смертью черн...\n",
       "1769211  Пенсіонерам, які працюють, збережуть усі соціа...\n",
       "1769212                               Марчук топить Кінаха\n",
       "\n",
       "[1769213 rows x 1 columns]"
      ]
     },
     "execution_count": 31,
     "metadata": {},
     "output_type": "execute_result"
    }
   ],
   "source": [
    "df = pd.read_csv('./data/ukr-cut.csv')\n",
    "\n",
    "df"
   ]
  },
  {
   "cell_type": "code",
   "execution_count": 40,
   "id": "b360d711-6af9-4f3f-ac49-5e2cba3eb954",
   "metadata": {},
   "outputs": [],
   "source": [
    "stemmer = UkStemmer()\n",
    "\n",
    "incorrect_stopwords = ['рос']\n",
    "\n",
    "with open('./data/stopwords_ua.txt') as f_stopwords:\n",
    "    stopwords = [x.replace('\\n', '') for x in f_stopwords.readlines()]\n",
    "    stopwords = [sw for sw in stopwords if sw not in incorrect_stopwords]\n",
    "\n",
    "num_re = re.compile(r'\\d+')\n",
    "words_re = re.compile(r'\\w+')\n",
    "\n",
    "def prepare_uk(text: str) -> str:\n",
    "    tokens = word_tokenize(text.lower())\n",
    "    tokens = [stemmer.stem_word(t) for t in tokens]\n",
    "    tokens = [t for t in tokens if t not in punctuation]\n",
    "    tokens = [t for t in tokens if t not in stopwords]\n",
    "    tokens = [t for t in tokens if num_re.match(t) is None]\n",
    "    tokens = [t for t in tokens if words_re.match(t) is not None]\n",
    "\n",
    "    return ' '.join(tokens)"
   ]
  },
  {
   "cell_type": "code",
   "execution_count": 47,
   "id": "1dfd0069-30c8-4eec-8a4e-649f8b399da6",
   "metadata": {},
   "outputs": [],
   "source": [
    "tqdm.pandas()"
   ]
  },
  {
   "cell_type": "code",
   "execution_count": 48,
   "id": "f3c266b6-60cb-465d-b4d3-884aca73aaf1",
   "metadata": {},
   "outputs": [
    {
     "name": "stderr",
     "output_type": "stream",
     "text": [
      "100%|█████████████████████████████████████████████████████████████████████████████████████████████████| 1769213/1769213 [10:20<00:00, 2848.98it/s]\n"
     ]
    },
    {
     "data": {
      "text/html": [
       "<div>\n",
       "<style scoped>\n",
       "    .dataframe tbody tr th:only-of-type {\n",
       "        vertical-align: middle;\n",
       "    }\n",
       "\n",
       "    .dataframe tbody tr th {\n",
       "        vertical-align: top;\n",
       "    }\n",
       "\n",
       "    .dataframe thead th {\n",
       "        text-align: right;\n",
       "    }\n",
       "</style>\n",
       "<table border=\"1\" class=\"dataframe\">\n",
       "  <thead>\n",
       "    <tr style=\"text-align: right;\">\n",
       "      <th></th>\n",
       "      <th>headline</th>\n",
       "      <th>headline_prcessed</th>\n",
       "    </tr>\n",
       "  </thead>\n",
       "  <tbody>\n",
       "    <tr>\n",
       "      <th>0</th>\n",
       "      <td>Збитки на понад 9 мільйонів євро: у Дніпрі пій...</td>\n",
       "      <td>збитк мільйон євр дніпр пійм учасник міжнародн...</td>\n",
       "    </tr>\n",
       "    <tr>\n",
       "      <th>1</th>\n",
       "      <td>Друзі при Балтії</td>\n",
       "      <td>друз балті</td>\n",
       "    </tr>\n",
       "    <tr>\n",
       "      <th>2</th>\n",
       "      <td>Обласна влада привітала жінок концертом Зібров...</td>\n",
       "      <td>обласн влад привітал жінок концерт зібр братів...</td>\n",
       "    </tr>\n",
       "    <tr>\n",
       "      <th>3</th>\n",
       "      <td>Кличко доручив створити робочу групу і навести...</td>\n",
       "      <td>кличк доруч створит робоч груп навест лад буді...</td>\n",
       "    </tr>\n",
       "    <tr>\n",
       "      <th>4</th>\n",
       "      <td>Вчені прирівняли переїдання до наркоманії</td>\n",
       "      <td>вчен прирівнял переїданн наркомані</td>\n",
       "    </tr>\n",
       "    <tr>\n",
       "      <th>...</th>\n",
       "      <td>...</td>\n",
       "      <td>...</td>\n",
       "    </tr>\n",
       "    <tr>\n",
       "      <th>1769208</th>\n",
       "      <td>Відео</td>\n",
       "      <td>віде</td>\n",
       "    </tr>\n",
       "    <tr>\n",
       "      <th>1769209</th>\n",
       "      <td>Міністерство культури зарубало конкурс Хоткеви...</td>\n",
       "      <td>міністерств культур зарубал конкурс хоткевич харк</td>\n",
       "    </tr>\n",
       "    <tr>\n",
       "      <th>1769210</th>\n",
       "      <td>Янукович велел ГПУ разобраться со смертью черн...</td>\n",
       "      <td>янукович велел гпу разобр со смерт чернобыльц</td>\n",
       "    </tr>\n",
       "    <tr>\n",
       "      <th>1769211</th>\n",
       "      <td>Пенсіонерам, які працюють, збережуть усі соціа...</td>\n",
       "      <td>пенсіонер працюют збережут соціальн випл мінсо...</td>\n",
       "    </tr>\n",
       "    <tr>\n",
       "      <th>1769212</th>\n",
       "      <td>Марчук топить Кінаха</td>\n",
       "      <td>марчук топит кінах</td>\n",
       "    </tr>\n",
       "  </tbody>\n",
       "</table>\n",
       "<p>1769213 rows × 2 columns</p>\n",
       "</div>"
      ],
      "text/plain": [
       "                                                  headline  \\\n",
       "0        Збитки на понад 9 мільйонів євро: у Дніпрі пій...   \n",
       "1                                         Друзі при Балтії   \n",
       "2        Обласна влада привітала жінок концертом Зібров...   \n",
       "3        Кличко доручив створити робочу групу і навести...   \n",
       "4                Вчені прирівняли переїдання до наркоманії   \n",
       "...                                                    ...   \n",
       "1769208                                              Відео   \n",
       "1769209  Міністерство культури зарубало конкурс Хоткеви...   \n",
       "1769210  Янукович велел ГПУ разобраться со смертью черн...   \n",
       "1769211  Пенсіонерам, які працюють, збережуть усі соціа...   \n",
       "1769212                               Марчук топить Кінаха   \n",
       "\n",
       "                                         headline_prcessed  \n",
       "0        збитк мільйон євр дніпр пійм учасник міжнародн...  \n",
       "1                                               друз балті  \n",
       "2        обласн влад привітал жінок концерт зібр братів...  \n",
       "3        кличк доруч створит робоч груп навест лад буді...  \n",
       "4                       вчен прирівнял переїданн наркомані  \n",
       "...                                                    ...  \n",
       "1769208                                               віде  \n",
       "1769209  міністерств культур зарубал конкурс хоткевич харк  \n",
       "1769210      янукович велел гпу разобр со смерт чернобыльц  \n",
       "1769211  пенсіонер працюют збережут соціальн випл мінсо...  \n",
       "1769212                                 марчук топит кінах  \n",
       "\n",
       "[1769213 rows x 2 columns]"
      ]
     },
     "execution_count": 48,
     "metadata": {},
     "output_type": "execute_result"
    }
   ],
   "source": [
    "df['headline_prcessed'] = df['headline'].progress_apply(prepare_uk)\n",
    "\n",
    "df"
   ]
  },
  {
   "cell_type": "code",
   "execution_count": 52,
   "id": "deb44891-991c-4111-ab89-de763440cfbc",
   "metadata": {},
   "outputs": [],
   "source": [
    "df.to_csv('./data/uk-cut-processed.csv', index=False)"
   ]
  },
  {
   "cell_type": "code",
   "execution_count": null,
   "id": "7ea9393c-1cfd-42df-8d0c-8de52b6304cb",
   "metadata": {},
   "outputs": [],
   "source": []
  }
 ],
 "metadata": {
  "kernelspec": {
   "display_name": "Python 3 (ipykernel)",
   "language": "python",
   "name": "python3"
  },
  "language_info": {
   "codemirror_mode": {
    "name": "ipython",
    "version": 3
   },
   "file_extension": ".py",
   "mimetype": "text/x-python",
   "name": "python",
   "nbconvert_exporter": "python",
   "pygments_lexer": "ipython3",
   "version": "3.10.12"
  }
 },
 "nbformat": 4,
 "nbformat_minor": 5
}
